{
  "nbformat": 4,
  "nbformat_minor": 0,
  "metadata": {
    "colab": {
      "provenance": []
    },
    "kernelspec": {
      "name": "python3",
      "display_name": "Python 3"
    },
    "language_info": {
      "name": "python"
    }
  },
  "cells": [
    {
      "cell_type": "markdown",
      "source": [
        "Write a code to reverse a string.  \n"
      ],
      "metadata": {
        "id": "XxeDQGe2VnSE"
      }
    },
    {
      "cell_type": "code",
      "execution_count": null,
      "metadata": {
        "id": "WP6lU6rmkGo6",
        "colab": {
          "base_uri": "https://localhost:8080/"
        },
        "outputId": "332a416e-89ef-47a2-80d5-bffe69680ceb"
      },
      "outputs": [
        {
          "output_type": "stream",
          "name": "stdout",
          "text": [
            "sllikswp\n"
          ]
        }
      ],
      "source": [
        "string = \"pwskills\"\n",
        "rev_string= string[::-1]\n",
        "print(rev_string)"
      ]
    },
    {
      "cell_type": "markdown",
      "source": [
        "Write a code to count the number of vowels in a string.\n"
      ],
      "metadata": {
        "id": "J4mDaojPWj8h"
      }
    },
    {
      "cell_type": "code",
      "source": [
        "count =0\n",
        "for i in string:\n",
        "  if i in \"aeiou\":\n",
        "    print(i)\n",
        "    count +=1\n",
        "print(\"no of vowel\", count)"
      ],
      "metadata": {
        "colab": {
          "base_uri": "https://localhost:8080/"
        },
        "id": "6Ar8carAWZcK",
        "outputId": "9c5c66e4-246a-45d1-da8f-e038f49ba552"
      },
      "execution_count": null,
      "outputs": [
        {
          "output_type": "stream",
          "name": "stdout",
          "text": [
            "i\n",
            "no of vowel 1\n"
          ]
        }
      ]
    },
    {
      "cell_type": "markdown",
      "source": [
        "Write a code to check if a given string is a palindrome or not."
      ],
      "metadata": {
        "id": "Bv97Vkg9Wx0X"
      }
    },
    {
      "cell_type": "code",
      "source": [
        "w= input(\"enter a word:\")\n",
        "if w == w[::-1]:\n",
        "  print(\"palindrome\")\n",
        "else:\n",
        "  print(\"not palindrome\")"
      ],
      "metadata": {
        "colab": {
          "base_uri": "https://localhost:8080/"
        },
        "id": "CruDlT5PWxIX",
        "outputId": "61622f84-13f6-4790-a888-35700a7169c9"
      },
      "execution_count": null,
      "outputs": [
        {
          "output_type": "stream",
          "name": "stdout",
          "text": [
            "enter a word:madam\n",
            "palindrome\n"
          ]
        }
      ]
    },
    {
      "cell_type": "markdown",
      "source": [
        "Write a code to check if two given strings are anagrams of each other."
      ],
      "metadata": {
        "id": "NE70yX20XyjA"
      }
    },
    {
      "cell_type": "code",
      "source": [
        "s= input(\"enter a word:\").lower()\n",
        "t= input(\"enter a word:\").lower()\n",
        "if sorted(s) == sorted(t):\n",
        "  print(\"anagram\")\n",
        "else:\n",
        "  print(\"not anagram\")"
      ],
      "metadata": {
        "colab": {
          "base_uri": "https://localhost:8080/"
        },
        "id": "pCTxs_FIYZUM",
        "outputId": "5d2323a9-63e6-42a6-8b76-db9d974a7ce2"
      },
      "execution_count": null,
      "outputs": [
        {
          "output_type": "stream",
          "name": "stdout",
          "text": [
            "enter a word:Listen\n",
            "enter a word:Silent\n",
            "anagram\n"
          ]
        }
      ]
    },
    {
      "cell_type": "markdown",
      "source": [
        "Write a code to find all occurrences of a given substring within another string.\n"
      ],
      "metadata": {
        "id": "NrG_DgKMYZ1_"
      }
    },
    {
      "cell_type": "code",
      "source": [
        "s= input(\"enter the substring:\").lower()\n",
        "t= input(\"enter the string:\").lower()\n",
        "if s in t:\n",
        "  print(\"substring\")\n",
        "else:\n",
        "  print(\"not substring\")"
      ],
      "metadata": {
        "colab": {
          "base_uri": "https://localhost:8080/"
        },
        "id": "LEYgeBezYc6I",
        "outputId": "3124af5f-d33d-47c7-a19e-4e262bcc5ec6"
      },
      "execution_count": null,
      "outputs": [
        {
          "output_type": "stream",
          "name": "stdout",
          "text": [
            "enter the substring:GOOD\n",
            "enter the string:Goodness\n",
            "substring\n"
          ]
        }
      ]
    },
    {
      "cell_type": "markdown",
      "source": [
        "Write a code to perform string compression using the count of repeated characters.\n"
      ],
      "metadata": {
        "id": "kwzzvyxKYdbQ"
      }
    },
    {
      "cell_type": "code",
      "source": [
        "def compress(a):\n",
        "    count = 1\n",
        "    result = \"\"\n",
        "\n",
        "    # Loop through the string up to the second last character\n",
        "    for i in range(len(a) - 1):  # Loop until the second last character\n",
        "        if a[i] == a[i + 1]:\n",
        "            count += 1\n",
        "        else:\n",
        "            result += a[i] + str(count)\n",
        "            count = 1  # Reset count for the new character\n",
        "\n",
        "    # Add the last character and its count\n",
        "    result += a[-1] + str(count)\n",
        "\n",
        "    return result\n",
        "\n",
        "# Test the function\n",
        "print(compress(\"aabcccccaaa\"))"
      ],
      "metadata": {
        "colab": {
          "base_uri": "https://localhost:8080/"
        },
        "id": "lKVy_xqdYf2s",
        "outputId": "d8c7b51f-211b-44c7-aca7-4b37ccbb93ad"
      },
      "execution_count": null,
      "outputs": [
        {
          "output_type": "stream",
          "name": "stdout",
          "text": [
            "a2b1c5a3\n"
          ]
        }
      ]
    },
    {
      "cell_type": "markdown",
      "source": [
        "Write a code to determine if a string has all unique characters."
      ],
      "metadata": {
        "id": "ffUM4oHMYgVZ"
      }
    },
    {
      "cell_type": "code",
      "source": [
        "def unique(a):\n",
        "    seen = set()\n",
        "    for i in a:\n",
        "        if i in seen:\n",
        "            return False\n",
        "        seen.add(i)\n",
        "    return True\n",
        "\n",
        "print(unique(\"pwskills\"))"
      ],
      "metadata": {
        "colab": {
          "base_uri": "https://localhost:8080/"
        },
        "id": "ugjm365BwDZC",
        "outputId": "d38724f5-b5d1-41b1-bfe8-fae47e4eedbb"
      },
      "execution_count": null,
      "outputs": [
        {
          "output_type": "stream",
          "name": "stdout",
          "text": [
            "False\n"
          ]
        }
      ]
    },
    {
      "cell_type": "markdown",
      "source": [
        "Write a code to convert a given string to uppercase or lowercase."
      ],
      "metadata": {
        "id": "4KzMQLxfwENb"
      }
    },
    {
      "cell_type": "code",
      "source": [
        "def uporlow(a):\n",
        "  return a.upper(), a.lower()\n",
        "\n",
        "print(uporlow(\"pwskills\"))"
      ],
      "metadata": {
        "colab": {
          "base_uri": "https://localhost:8080/"
        },
        "id": "tYViRie09h_p",
        "outputId": "3763c2b5-6dc9-41f8-b484-af4976c0460a"
      },
      "execution_count": null,
      "outputs": [
        {
          "output_type": "stream",
          "name": "stdout",
          "text": [
            "('PWSKILLS', 'pwskills')\n"
          ]
        }
      ]
    },
    {
      "cell_type": "markdown",
      "source": [
        "Write a code to count the number of words in a string."
      ],
      "metadata": {
        "id": "uruRLdOK9jG0"
      }
    },
    {
      "cell_type": "code",
      "source": [
        "s=\"pwskills\"\n",
        "print(len(s))"
      ],
      "metadata": {
        "colab": {
          "base_uri": "https://localhost:8080/"
        },
        "id": "XUMTXv3O-JV4",
        "outputId": "4b364650-c730-4c2f-8cb5-88c73941e8b9"
      },
      "execution_count": null,
      "outputs": [
        {
          "output_type": "stream",
          "name": "stdout",
          "text": [
            "8\n"
          ]
        }
      ]
    },
    {
      "cell_type": "markdown",
      "source": [
        "Write a code to concatenate two strings without using the + operator.\n"
      ],
      "metadata": {
        "id": "H2faXjDF-J_J"
      }
    },
    {
      "cell_type": "code",
      "source": [
        "a,b= \"pw\", \"skills\"\n",
        "print(a,b)"
      ],
      "metadata": {
        "colab": {
          "base_uri": "https://localhost:8080/"
        },
        "id": "Pz7kWGZH-LiO",
        "outputId": "99fcd34d-b63c-41fe-cc42-19977e8ed139"
      },
      "execution_count": null,
      "outputs": [
        {
          "output_type": "stream",
          "name": "stdout",
          "text": [
            "pw skills\n"
          ]
        }
      ]
    },
    {
      "cell_type": "markdown",
      "source": [
        "Write a code to remove all occurrences of a specific element from a list."
      ],
      "metadata": {
        "id": "J1GossSz-L6p"
      }
    },
    {
      "cell_type": "code",
      "source": [
        "l= [5,6,4,5,7,3,9,2]\n",
        "while 5 in l:\n",
        "  l.remove(5)\n",
        "print(l)"
      ],
      "metadata": {
        "colab": {
          "base_uri": "https://localhost:8080/"
        },
        "id": "USjaH93L-N0w",
        "outputId": "7143bde2-6c18-4a7f-b7ba-85f54bf36ae9"
      },
      "execution_count": null,
      "outputs": [
        {
          "output_type": "stream",
          "name": "stdout",
          "text": [
            "[6, 4, 7, 3, 9, 2]\n"
          ]
        }
      ]
    },
    {
      "cell_type": "markdown",
      "source": [
        "Implement a code to find the second largest number in a given list of integers."
      ],
      "metadata": {
        "id": "_yJgPFC_-OGe"
      }
    },
    {
      "cell_type": "code",
      "source": [
        "l= [5,6,4,5,7,3,9,2]\n",
        "l.sort()\n",
        "print(l[-2])"
      ],
      "metadata": {
        "colab": {
          "base_uri": "https://localhost:8080/"
        },
        "id": "hUDYybV4-P5I",
        "outputId": "a800fa0c-a53a-4ad8-b716-350527fb2f7c"
      },
      "execution_count": null,
      "outputs": [
        {
          "output_type": "stream",
          "name": "stdout",
          "text": [
            "7\n"
          ]
        }
      ]
    },
    {
      "cell_type": "markdown",
      "source": [
        "Create a code to count the occurrences of each element in a list and return a dictionary with elements as keys and their counts as values."
      ],
      "metadata": {
        "id": "HJbbUP6y-QKo"
      }
    },
    {
      "cell_type": "code",
      "source": [
        "l1=[1,1,5,6,3,3,4,2,1]\n",
        "d={}\n",
        "\n",
        "for i in l1:\n",
        "  if i in d:\n",
        "    d[i]+=1\n",
        "  else:\n",
        "    d[i]=1\n",
        "print(d)"
      ],
      "metadata": {
        "colab": {
          "base_uri": "https://localhost:8080/"
        },
        "id": "-E5QQwmd-TL_",
        "outputId": "a5379016-64c6-4f32-dae8-ae4d0de901d2"
      },
      "execution_count": null,
      "outputs": [
        {
          "output_type": "stream",
          "name": "stdout",
          "text": [
            "{1: 3, 5: 1, 6: 1, 3: 2, 4: 1, 2: 1}\n"
          ]
        }
      ]
    },
    {
      "cell_type": "markdown",
      "source": [
        "Write a code to reverse a list in-place without using any built-in reverse function."
      ],
      "metadata": {
        "id": "Zfxd2iUo-SmC"
      }
    },
    {
      "cell_type": "code",
      "source": [
        "l= [5,6,4,5,7,3,9,2]\n"
      ],
      "metadata": {
        "id": "u031MECI-WUI"
      },
      "execution_count": null,
      "outputs": []
    },
    {
      "cell_type": "markdown",
      "source": [
        "Implement a code to find and remove duplicates from a list while preserving the original order of elements.\n"
      ],
      "metadata": {
        "id": "8H1CUQNT-Wn7"
      }
    },
    {
      "cell_type": "code",
      "source": [
        "l= [5,6,4,5,7,3,9,2]\n",
        "for i in l:\n",
        "  if l.count(i)>1:\n",
        "    l.remove(i)\n",
        "print(l)"
      ],
      "metadata": {
        "colab": {
          "base_uri": "https://localhost:8080/"
        },
        "id": "DaaGtQMA-YRD",
        "outputId": "120e4fde-6dc4-451a-fb60-94a3ae24142e"
      },
      "execution_count": null,
      "outputs": [
        {
          "output_type": "stream",
          "name": "stdout",
          "text": [
            "[6, 4, 5, 7, 3, 9, 2]\n"
          ]
        }
      ]
    },
    {
      "cell_type": "markdown",
      "source": [
        "Create a code to check if a given list is sorted (either in ascending or descending order) or not.\n"
      ],
      "metadata": {
        "id": "sekujwiA-Yks"
      }
    },
    {
      "cell_type": "code",
      "source": [
        "l1= [1,2,5,4]\n",
        "if l1 == sorted(l1):\n",
        "  print(\"sorted\")\n",
        "else:\n",
        "  print(\"not sorted\")"
      ],
      "metadata": {
        "id": "_Vs32EZ3-aKy",
        "colab": {
          "base_uri": "https://localhost:8080/"
        },
        "outputId": "2a2747af-2174-4238-bc93-ffac7c8cb741"
      },
      "execution_count": null,
      "outputs": [
        {
          "output_type": "stream",
          "name": "stdout",
          "text": [
            "not sorted\n"
          ]
        }
      ]
    },
    {
      "cell_type": "markdown",
      "source": [
        "Write a code to merge two sorted lists into a single sorted list.\n"
      ],
      "metadata": {
        "id": "9A5QDyH4-adB"
      }
    },
    {
      "cell_type": "code",
      "source": [
        "l1= [1,2,5,4]\n",
        "l2= [3,6,7,8]\n",
        "l3= l1+l2\n",
        "l3.sort()\n",
        "print(l3)"
      ],
      "metadata": {
        "id": "5TnyUKVA-b5g",
        "colab": {
          "base_uri": "https://localhost:8080/"
        },
        "outputId": "2ec9bffc-8056-412d-edd3-c0a41068306c"
      },
      "execution_count": null,
      "outputs": [
        {
          "output_type": "stream",
          "name": "stdout",
          "text": [
            "[1, 2, 3, 4, 5, 6, 7, 8]\n"
          ]
        }
      ]
    },
    {
      "cell_type": "markdown",
      "source": [
        "Implement a code to find the intersection of two given lists.\n"
      ],
      "metadata": {
        "id": "Rzjl6V1--cYO"
      }
    },
    {
      "cell_type": "code",
      "source": [
        "l1= [1,2,3,4]\n",
        "l2= [3,4,5,6]\n",
        "l3= []\n",
        "for i in l1:\n",
        "  if i in l2:\n",
        "    l3.append(i)\n",
        "print(l3)"
      ],
      "metadata": {
        "id": "jeSnXBWP-d7q",
        "colab": {
          "base_uri": "https://localhost:8080/"
        },
        "outputId": "4ced1c47-23c2-42d1-ef9e-6d8175da8801"
      },
      "execution_count": null,
      "outputs": [
        {
          "output_type": "stream",
          "name": "stdout",
          "text": [
            "[3, 4]\n"
          ]
        }
      ]
    },
    {
      "cell_type": "markdown",
      "source": [
        "Create a code to find the union of two lists without duplicates.\n"
      ],
      "metadata": {
        "id": "nLbmYaZV-eRz"
      }
    },
    {
      "cell_type": "code",
      "source": [
        "l1 = [1, 2, 3, 4]\n",
        "l2 = [3, 4, 5, 6]\n",
        "\n",
        "l3 = set(l1) | set(l2)\n",
        "\n",
        "print(l3)"
      ],
      "metadata": {
        "colab": {
          "base_uri": "https://localhost:8080/"
        },
        "id": "ahIIQxbi-fvL",
        "outputId": "4bfe5063-01f8-4ff7-f570-fee8f693f16f"
      },
      "execution_count": null,
      "outputs": [
        {
          "output_type": "stream",
          "name": "stdout",
          "text": [
            "{1, 2, 3, 4, 5, 6}\n"
          ]
        }
      ]
    },
    {
      "cell_type": "markdown",
      "source": [
        "Write a code to shuffle a given list randomly without using any built-in shuffle function."
      ],
      "metadata": {
        "id": "gX0WbFAP-gA6"
      }
    },
    {
      "cell_type": "code",
      "source": [
        "import random\n",
        "\n",
        "def shuffle_list(lst):\n",
        "    for i in range(len(lst) - 1, 0, -1):\n",
        "        j = random.randint(0, i)\n",
        "        lst[i], lst[j] = lst[j], lst[i]\n",
        "\n",
        "my_list = [1, 2, 3, 4, 5]\n",
        "shuffle_list(my_list)\n",
        "print(my_list)"
      ],
      "metadata": {
        "id": "Vw87UC76-hKN",
        "colab": {
          "base_uri": "https://localhost:8080/"
        },
        "outputId": "aaa4247b-9edc-469d-ed30-5e28f06e515e"
      },
      "execution_count": 9,
      "outputs": [
        {
          "output_type": "stream",
          "name": "stdout",
          "text": [
            "[5, 4, 2, 1, 3]\n"
          ]
        }
      ]
    },
    {
      "cell_type": "markdown",
      "source": [
        "Write a Python program to shuffle the elements of a given list randomly without using any built-in shuffle function."
      ],
      "metadata": {
        "id": "TguNO75MaMv3"
      }
    },
    {
      "cell_type": "code",
      "source": [
        "import random\n",
        "\n",
        "def shuffle_list(lst):\n",
        "    for i in range(len(lst) - 1, 0, -1):\n",
        "        j = random.randint(0, i)\n",
        "        lst[i], lst[j] = lst[j], lst[i]\n",
        "\n",
        "my_list = [10, 20, 30, 40, 50]\n",
        "shuffle_list(my_list)\n",
        "print(my_list)"
      ],
      "metadata": {
        "id": "fV3jIsZnb8ms",
        "colab": {
          "base_uri": "https://localhost:8080/"
        },
        "outputId": "d7eddf74-cf37-446e-d3f6-2486c8b04176"
      },
      "execution_count": 10,
      "outputs": [
        {
          "output_type": "stream",
          "name": "stdout",
          "text": [
            "[40, 20, 50, 10, 30]\n"
          ]
        }
      ]
    },
    {
      "cell_type": "markdown",
      "source": [
        "Write a program that takes two tuples as input and returns a new tuple containing elements common to both input tuples."
      ],
      "metadata": {
        "id": "f3Wz0WI4bP7Q"
      }
    },
    {
      "cell_type": "code",
      "source": [
        "def common_elements(tuple1, tuple2):\n",
        "    return tuple(set(tuple1) & set(tuple2))\n",
        "\n",
        "tuple1 = (1, 2, 3, 4, 5)\n",
        "tuple2 = (3, 4, 5, 6, 7)\n",
        "result = common_elements(tuple1, tuple2)\n",
        "print(result)"
      ],
      "metadata": {
        "id": "YY_KLpi-bVYt",
        "colab": {
          "base_uri": "https://localhost:8080/"
        },
        "outputId": "0ae6bab7-2ed2-4dd3-a161-0738d74cb940"
      },
      "execution_count": 11,
      "outputs": [
        {
          "output_type": "stream",
          "name": "stdout",
          "text": [
            "(3, 4, 5)\n"
          ]
        }
      ]
    },
    {
      "cell_type": "markdown",
      "source": [
        "Write a program that prompts the user to input two sets of integers, separated by commas. Then, display the intersection of these two sets."
      ],
      "metadata": {
        "id": "NT-hxPEcbWNy"
      }
    },
    {
      "cell_type": "code",
      "source": [
        "def get_set_input(prompt):\n",
        "    user_input = input(prompt)\n",
        "    return set(map(int, user_input.split(',')))\n",
        "\n",
        "set1 = get_set_input(\"Enter the first set of integers (separated by commas): \")\n",
        "set2 = get_set_input(\"Enter the second set of integers (separated by commas): \")\n",
        "\n",
        "intersection = set1 & set2\n",
        "print(\"Intersection of the two sets:\", intersection)"
      ],
      "metadata": {
        "id": "gwNcKXwXaL0e",
        "colab": {
          "base_uri": "https://localhost:8080/"
        },
        "outputId": "c1c928a7-040a-4a43-e717-7f6e9c8dc6d8"
      },
      "execution_count": 12,
      "outputs": [
        {
          "output_type": "stream",
          "name": "stdout",
          "text": [
            "Enter the first set of integers (separated by commas): 7,8,9,5\n",
            "Enter the second set of integers (separated by commas): 7,4,5,3\n",
            "Intersection of the two sets: {5, 7}\n"
          ]
        }
      ]
    },
    {
      "cell_type": "markdown",
      "source": [
        "Write a program to concatenate two tuples. The function should take two tuples as input and return a new tuple containing elements from both input tuples."
      ],
      "metadata": {
        "id": "mI-z2klccjNo"
      }
    },
    {
      "cell_type": "code",
      "source": [
        "def concatenate_tuples(tuple1, tuple2):\n",
        "    return tuple1 + tuple2\n",
        "\n",
        "tuple1 = (1, 2, 3)\n",
        "tuple2 = (4, 5, 6)\n",
        "result = concatenate_tuples(tuple1, tuple2)\n",
        "print(result)"
      ],
      "metadata": {
        "colab": {
          "base_uri": "https://localhost:8080/"
        },
        "id": "wJ7eq15PckwY",
        "outputId": "48f654dc-6b7e-4f8d-e3e2-66a2a73e5d40"
      },
      "execution_count": 13,
      "outputs": [
        {
          "output_type": "stream",
          "name": "stdout",
          "text": [
            "(1, 2, 3, 4, 5, 6)\n"
          ]
        }
      ]
    },
    {
      "cell_type": "markdown",
      "source": [
        "Write a program that prompts the user to input two sets of strings and prints the elements present in the first set but not in the second set."
      ],
      "metadata": {
        "id": "Oo8NBGu8cLsg"
      }
    },
    {
      "cell_type": "code",
      "source": [
        "def get_set_input(prompt):\n",
        "    user_input = input(prompt)\n",
        "    return set(user_input.split(','))\n",
        "\n",
        "set1 = get_set_input(\"Enter the first set of strings (separated by commas): \")\n",
        "set2 = get_set_input(\"Enter the second set of strings (separated by commas): \")\n",
        "\n",
        "difference = set1 - set2\n",
        "print(\"Elements present in the first set but not in the second set:\", difference)"
      ],
      "metadata": {
        "colab": {
          "base_uri": "https://localhost:8080/"
        },
        "id": "GJ42IhAQcZw3",
        "outputId": "a4d57583-b940-4df6-c101-a6e4d48e29b4"
      },
      "execution_count": 14,
      "outputs": [
        {
          "output_type": "stream",
          "name": "stdout",
          "text": [
            "Enter the first set of strings (separated by commas): p,w,s,k,i,l,l,s\n",
            "Enter the second set of strings (separated by commas): s,k,i,l,l,s\n",
            "Elements present in the first set but not in the second set: {'w', 'p'}\n"
          ]
        }
      ]
    },
    {
      "cell_type": "markdown",
      "source": [
        "Create a program that takes a tuple and two integers as input. The function should return a new tuple containing elements from the original tuple within the specified range of indices."
      ],
      "metadata": {
        "id": "il8IZFb1caGu"
      }
    },
    {
      "cell_type": "code",
      "source": [
        "def slice_tuple(tpl, start, end):\n",
        "    return tpl[start:end]\n",
        "\n",
        "tpl = (10, 20, 30, 40, 50, 60, 70)\n",
        "start = int(input(\"Enter the start index: \"))\n",
        "end = int(input(\"Enter the end index: \"))\n",
        "\n",
        "result = slice_tuple(tpl, start, end)\n",
        "print(\"Sliced tuple:\", result)"
      ],
      "metadata": {
        "colab": {
          "base_uri": "https://localhost:8080/"
        },
        "id": "tyrquh1UceJ3",
        "outputId": "e118e779-0fe6-4aa7-eb27-fc08235cac27"
      },
      "execution_count": 15,
      "outputs": [
        {
          "output_type": "stream",
          "name": "stdout",
          "text": [
            "Enter the start index: 2\n",
            "Enter the end index: 6\n",
            "Sliced tuple: (30, 40, 50, 60)\n"
          ]
        }
      ]
    },
    {
      "cell_type": "markdown",
      "source": [
        "Write a program that prompts the user to input two sets of characters and prints the union of these two sets."
      ],
      "metadata": {
        "id": "7m_l1ey4ceYn"
      }
    },
    {
      "cell_type": "code",
      "source": [
        "def get_set_input(prompt):\n",
        "    user_input = input(prompt)\n",
        "    return set(user_input)\n",
        "\n",
        "set1 = get_set_input(\"Enter the first set of characters: \")\n",
        "set2 = get_set_input(\"Enter the second set of characters: \")\n",
        "\n",
        "union = set1 | set2\n",
        "print(\"Union of the two sets:\", union)"
      ],
      "metadata": {
        "colab": {
          "base_uri": "https://localhost:8080/"
        },
        "id": "kT16J8oacq6Y",
        "outputId": "35ff4d02-1a01-47c6-d3c8-5a025f8e0d21"
      },
      "execution_count": 16,
      "outputs": [
        {
          "output_type": "stream",
          "name": "stdout",
          "text": [
            "Enter the first set of characters: p,w,s,k,i,l,l,s\n",
            "Enter the second set of characters: p,w\n",
            "Union of the two sets: {'k', 'p', 'w', 's', 'l', ',', 'i'}\n"
          ]
        }
      ]
    },
    {
      "cell_type": "markdown",
      "source": [
        "Develop a program that takes a tuple of integers as input and returns the maximum and minimum values from the tuple using tuple unpacking."
      ],
      "metadata": {
        "id": "HHoKKib1crLp"
      }
    },
    {
      "cell_type": "code",
      "source": [
        "def find_max_min(tpl):\n",
        "    return max(tpl), min(tpl)\n",
        "\n",
        "tpl = tuple(map(int, input(\"Enter a tuple of integers (separated by spaces): \").split()))\n",
        "maximum, minimum = find_max_min(tpl)\n",
        "print(\"Maximum value:\", maximum)\n",
        "print(\"Minimum value:\", minimum)"
      ],
      "metadata": {
        "colab": {
          "base_uri": "https://localhost:8080/"
        },
        "id": "e5XI9_ntcu2B",
        "outputId": "cb6838e2-57cd-4ba4-9c4d-8729b860a90d"
      },
      "execution_count": 17,
      "outputs": [
        {
          "output_type": "stream",
          "name": "stdout",
          "text": [
            "Enter a tuple of integers (separated by spaces): 7 8 9 6 3 6 \n",
            "Maximum value: 9\n",
            "Minimum value: 3\n"
          ]
        }
      ]
    },
    {
      "cell_type": "markdown",
      "source": [
        "Create a program that defines two sets of integers and prints the union, intersection, and difference of these two sets."
      ],
      "metadata": {
        "id": "26giCMcDcvM5"
      }
    },
    {
      "cell_type": "code",
      "source": [
        "set1 = {1, 2, 3, 4, 5}\n",
        "set2 = {4, 5, 6, 7, 8}\n",
        "\n",
        "union = set1 | set2\n",
        "intersection = set1 & set2\n",
        "difference = set1 - set2\n",
        "\n",
        "print(\"Union:\", union)\n",
        "print(\"Intersection:\", intersection)\n",
        "print(\"Difference (set1 - set2):\", difference)"
      ],
      "metadata": {
        "colab": {
          "base_uri": "https://localhost:8080/"
        },
        "id": "mO55KGfhcylh",
        "outputId": "450fe197-ec2a-490f-9bf9-f88f201b7b24"
      },
      "execution_count": 18,
      "outputs": [
        {
          "output_type": "stream",
          "name": "stdout",
          "text": [
            "Union: {1, 2, 3, 4, 5, 6, 7, 8}\n",
            "Intersection: {4, 5}\n",
            "Difference (set1 - set2): {1, 2, 3}\n"
          ]
        }
      ]
    },
    {
      "cell_type": "markdown",
      "source": [
        "Write a program that takes a tuple and an element as input. The function should return the count of occurrences of the given element in the tuple."
      ],
      "metadata": {
        "id": "qyE2ltG6czQx"
      }
    },
    {
      "cell_type": "code",
      "source": [
        "def count_occurrences(tpl, element):\n",
        "    return tpl.count(element)\n",
        "\n",
        "tpl = tuple(map(int, input(\"Enter a tuple of integers (separated by spaces): \").split()))\n",
        "element = int(input(\"Enter the element to count: \"))\n",
        "\n",
        "count = count_occurrences(tpl, element)\n",
        "print(f\"The element {element} appears {count} times in the tuple.\")"
      ],
      "metadata": {
        "colab": {
          "base_uri": "https://localhost:8080/"
        },
        "id": "UHskeINyjjLn",
        "outputId": "66828e9f-b7e8-495c-df85-3e73bce7aa5f"
      },
      "execution_count": 19,
      "outputs": [
        {
          "output_type": "stream",
          "name": "stdout",
          "text": [
            "Enter a tuple of integers (separated by spaces): 8 5 3 4 6\n",
            "Enter the element to count: 2\n",
            "The element 2 appears 0 times in the tuple.\n"
          ]
        }
      ]
    },
    {
      "cell_type": "markdown",
      "source": [
        "\n",
        "Develop a program that prompts the user to input two sets of strings and prints the symmetric difference of these two sets."
      ],
      "metadata": {
        "id": "rNstLIbYjjeH"
      }
    },
    {
      "cell_type": "code",
      "source": [
        "def get_set_input(prompt):\n",
        "    user_input = input(prompt)\n",
        "    return set(user_input.split(','))\n",
        "\n",
        "set1 = get_set_input(\"Enter the first set of strings (separated by commas): \")\n",
        "set2 = get_set_input(\"Enter the second set of strings (separated by commas): \")\n",
        "\n",
        "symmetric_difference = set1 ^ set2\n",
        "print(\"Symmetric difference of the two sets:\", symmetric_difference)"
      ],
      "metadata": {
        "colab": {
          "base_uri": "https://localhost:8080/"
        },
        "id": "S9Lk_afbjmc_",
        "outputId": "8b056439-9209-4ff0-f5ad-b2c91267d49f"
      },
      "execution_count": 20,
      "outputs": [
        {
          "output_type": "stream",
          "name": "stdout",
          "text": [
            "Enter the first set of strings (separated by commas): s o u d e e p\n",
            "Enter the second set of strings (separated by commas): t i k a\n",
            "Symmetric difference of the two sets: {'t i k a', 's o u d e e p'}\n"
          ]
        }
      ]
    },
    {
      "cell_type": "markdown",
      "source": [
        "Write a program that takes a list of words as input and returns a dictionary where the keys are unique words and the values are the frequencies of those words in the input list."
      ],
      "metadata": {
        "id": "aDwhpfD3jmvH"
      }
    },
    {
      "cell_type": "code",
      "source": [
        "def word_frequency(words):\n",
        "    freq_dict = {}\n",
        "    for word in words:\n",
        "        freq_dict[word] = freq_dict.get(word, 0) + 1\n",
        "    return freq_dict\n",
        "\n",
        "words = input(\"Enter a list of words (separated by spaces): \").split()\n",
        "result = word_frequency(words)\n",
        "print(\"Word frequencies:\", result)"
      ],
      "metadata": {
        "colab": {
          "base_uri": "https://localhost:8080/"
        },
        "id": "5aeoYc_9jpsg",
        "outputId": "a3048cb8-3342-47e7-bf78-d39acca2049a"
      },
      "execution_count": 21,
      "outputs": [
        {
          "output_type": "stream",
          "name": "stdout",
          "text": [
            "Enter a list of words (separated by spaces): p w s k i l l s\n",
            "Word frequencies: {'p': 1, 'w': 1, 's': 2, 'k': 1, 'i': 1, 'l': 2}\n"
          ]
        }
      ]
    },
    {
      "cell_type": "markdown",
      "source": [
        "Write a program that takes two dictionaries as input and merges them into a single dictionary. If there are common keys, the values should be added together."
      ],
      "metadata": {
        "id": "6tzs9pJpjp8f"
      }
    },
    {
      "cell_type": "code",
      "source": [
        "def merge_dictionaries(dict1, dict2):\n",
        "    merged_dict = dict1.copy()  # Create a copy of dict1\n",
        "    for key, value in dict2.items():\n",
        "        merged_dict[key] = merged_dict.get(key, 0) + value\n",
        "    return merged_dict\n",
        "\n",
        "dict1 = eval(input(\"Enter the first dictionary: \"))\n",
        "dict2 = eval(input(\"Enter the second dictionary: \"))\n",
        "\n",
        "result = merge_dictionaries(dict1, dict2)\n",
        "print(\"Merged dictionary:\", result)"
      ],
      "metadata": {
        "colab": {
          "base_uri": "https://localhost:8080/"
        },
        "id": "CpKeOjeZjs-v",
        "outputId": "432fcad5-aab0-4409-abfd-240e60dfe491"
      },
      "execution_count": 24,
      "outputs": [
        {
          "output_type": "stream",
          "name": "stdout",
          "text": [
            "Enter the first dictionary: {\"a\": 1, \"b\" : 2, \"c\" : 3}\n",
            "Enter the second dictionary: {\"b\" : 4, \"c\" : 5, \"d\" : 6}\n",
            "Merged dictionary: {'a': 1, 'b': 6, 'c': 8, 'd': 6}\n"
          ]
        }
      ]
    },
    {
      "cell_type": "markdown",
      "source": [
        "Write a program to access a value in a nested dictionary. The function should take the dictionary and a list of keys as input and return the corresponding value. If any of the keys do not exist, the function should return `None`."
      ],
      "metadata": {
        "id": "RoWl03gCjtVw"
      }
    },
    {
      "cell_type": "code",
      "source": [
        "def access_nested_dict(nested_dict, keys):\n",
        "    for key in keys:\n",
        "        nested_dict = nested_dict.get(key)\n",
        "        if nested_dict is None:\n",
        "            return None\n",
        "    return nested_dict\n",
        "\n",
        "nested_dict = {\n",
        "    'a': {'b': {'c': 5, 'd': 6}},\n",
        "    'x': {'y': {'z': 10}}\n",
        "}\n",
        "\n",
        "keys = input(\"Enter a list of keys (separated by commas): \").split(',')\n",
        "keys = [key.strip() for key in keys]\n",
        "\n",
        "result = access_nested_dict(nested_dict, keys)\n",
        "print(\"The value is:\", result)"
      ],
      "metadata": {
        "colab": {
          "base_uri": "https://localhost:8080/"
        },
        "id": "t4cGifTtjwDI",
        "outputId": "bdc42e1c-7bc2-489a-820d-682763ec15a8"
      },
      "execution_count": 25,
      "outputs": [
        {
          "output_type": "stream",
          "name": "stdout",
          "text": [
            "Enter a list of keys (separated by commas): a, b, c\n",
            "The value is: 5\n"
          ]
        }
      ]
    },
    {
      "cell_type": "markdown",
      "source": [
        "Write a program that takes a dictionary as input and returns a sorted version of it based on the values. Allow sorting in either ascending or descending order."
      ],
      "metadata": {
        "id": "4cl_YIafjwU4"
      }
    },
    {
      "cell_type": "code",
      "source": [
        "def sort_dict_by_values(d, order='ascending'):\n",
        "    return dict(sorted(d.items(), key=lambda item: item[1], reverse=(order == 'descending')))\n",
        "\n",
        "# Input dictionary\n",
        "d = eval(input(\"Enter a dictionary: \"))\n",
        "order = input(\"Enter the sorting order ('ascending' or 'descending'): \").strip().lower()\n",
        "\n",
        "sorted_dict = sort_dict_by_values(d, order)\n",
        "print(\"Sorted dictionary:\", sorted_dict)"
      ],
      "metadata": {
        "colab": {
          "base_uri": "https://localhost:8080/"
        },
        "id": "L8nMxVV4jy4A",
        "outputId": "b70a0670-6a2e-4ec0-f8ae-31330ccd4941"
      },
      "execution_count": 26,
      "outputs": [
        {
          "output_type": "stream",
          "name": "stdout",
          "text": [
            "Enter a dictionary: {'a': 3, 'b': 1, 'c': 2}\n",
            "Enter the sorting order ('ascending' or 'descending'): ascending\n",
            "Sorted dictionary: {'b': 1, 'c': 2, 'a': 3}\n"
          ]
        }
      ]
    },
    {
      "cell_type": "markdown",
      "source": [
        "\n",
        "Write a program that inverts a dictionary, swapping keys and values. Ensure the inverted dictionary correctly handles cases where multiple keys have the same value by storing the keys as a list in the inverted dictionary."
      ],
      "metadata": {
        "id": "Pb06hH3zjzOh"
      }
    },
    {
      "cell_type": "code",
      "source": [
        "def invert_dict(d):\n",
        "    inverted_dict = {}\n",
        "    for key, value in d.items():\n",
        "        if value in inverted_dict:\n",
        "            inverted_dict[value].append(key)\n",
        "        else:\n",
        "            inverted_dict[value] = [key]\n",
        "    return inverted_dict\n",
        "\n",
        "# Input dictionary\n",
        "d = eval(input(\"Enter a dictionary: \"))\n",
        "\n",
        "inverted_dict = invert_dict(d)\n",
        "print(\"Inverted dictionary:\", inverted_dict)"
      ],
      "metadata": {
        "colab": {
          "base_uri": "https://localhost:8080/"
        },
        "id": "tQGMQpTwj1NJ",
        "outputId": "f9616eb1-e382-4b61-e4c7-ce51a9f3b6c9"
      },
      "execution_count": 27,
      "outputs": [
        {
          "output_type": "stream",
          "name": "stdout",
          "text": [
            "Enter a dictionary: {'a': 1, 'b': 2, 'c': 1, 'd': 3}\n",
            "Inverted dictionary: {1: ['a', 'c'], 2: ['b'], 3: ['d']}\n"
          ]
        }
      ]
    }
  ]
}